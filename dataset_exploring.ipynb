{
 "cells": [
  {
   "cell_type": "code",
   "execution_count": 2,
   "metadata": {},
   "outputs": [
    {
     "ename": "ModuleNotFoundError",
     "evalue": "No module named 'pandas'",
     "output_type": "error",
     "traceback": [
      "\u001b[1;31m---------------------------------------------------------------------------\u001b[0m",
      "\u001b[1;31mModuleNotFoundError\u001b[0m                       Traceback (most recent call last)",
      "\u001b[1;32md:\\Datathon\\NLP-Learning\\dataset_exploring.ipynb Cell 1\u001b[0m line \u001b[0;36m2\n\u001b[0;32m      <a href='vscode-notebook-cell:/d%3A/Datathon/NLP-Learning/dataset_exploring.ipynb#W0sZmlsZQ%3D%3D?line=0'>1</a>\u001b[0m \u001b[39mimport\u001b[39;00m \u001b[39mnumpy\u001b[39;00m \u001b[39mas\u001b[39;00m \u001b[39mnp\u001b[39;00m\n\u001b[1;32m----> <a href='vscode-notebook-cell:/d%3A/Datathon/NLP-Learning/dataset_exploring.ipynb#W0sZmlsZQ%3D%3D?line=1'>2</a>\u001b[0m \u001b[39mimport\u001b[39;00m \u001b[39mpandas\u001b[39;00m \u001b[39mas\u001b[39;00m \u001b[39mpd\u001b[39;00m\n\u001b[0;32m      <a href='vscode-notebook-cell:/d%3A/Datathon/NLP-Learning/dataset_exploring.ipynb#W0sZmlsZQ%3D%3D?line=2'>3</a>\u001b[0m \u001b[39mimport\u001b[39;00m \u001b[39mpyarrow\u001b[39;00m\n\u001b[0;32m      <a href='vscode-notebook-cell:/d%3A/Datathon/NLP-Learning/dataset_exploring.ipynb#W0sZmlsZQ%3D%3D?line=3'>4</a>\u001b[0m \u001b[39mimport\u001b[39;00m \u001b[39mstring\u001b[39;00m\n",
      "\u001b[1;31mModuleNotFoundError\u001b[0m: No module named 'pandas'"
     ]
    }
   ],
   "source": [
    "import numpy as np\n",
    "import pandas as pd\n",
    "import pyarrow\n",
    "import string\n",
    "#Importing Necessary Library\n",
    "#Pyarrow engine makes csv file reading writing faster for panda library"
   ]
  },
  {
   "cell_type": "code",
   "execution_count": null,
   "metadata": {},
   "outputs": [],
   "source": [
    "dataset = pd.read_csv(\"Datasets/trainIPAdb_u.csv\", engine=\"pyarrow\")"
   ]
  },
  {
   "cell_type": "code",
   "execution_count": null,
   "metadata": {},
   "outputs": [],
   "source": [
    "dataset.head(20)"
   ]
  },
  {
   "cell_type": "code",
   "execution_count": null,
   "metadata": {},
   "outputs": [],
   "source": [
    "dataset.describe()"
   ]
  },
  {
   "cell_type": "code",
   "execution_count": null,
   "metadata": {},
   "outputs": [],
   "source": [
    "all_punctuations =  string.punctuation + \"।\"\n",
    "all_punctuations"
   ]
  },
  {
   "cell_type": "code",
   "execution_count": null,
   "metadata": {},
   "outputs": [],
   "source": [
    "filtered_dataset = dataset[dataset[\"text\"].str.contains(\"[A-Za-z0-9]\") == False]\n",
    "\n",
    "bangla_split = filtered_dataset[\"text\"].str.split()\n",
    "ipa_split = filtered_dataset[\"ipa\"].str.split()"
   ]
  },
  {
   "cell_type": "code",
   "execution_count": null,
   "metadata": {},
   "outputs": [],
   "source": [
    "new_dataset_dict = {\n",
    "    \"bangla_word\": [],\n",
    "    \"ipa_word\": []\n",
    "}"
   ]
  },
  {
   "cell_type": "code",
   "execution_count": null,
   "metadata": {},
   "outputs": [],
   "source": [
    "for bangla_sentence, ipa_sentence in zip(bangla_split, ipa_split):\n",
    "    for bangla_word, ipa_word in zip(bangla_sentence, ipa_sentence):\n",
    "        filtered_bangla_word, filtered_ipa_word = bangla_word.translate(bangla_word.maketrans(\"\", \"\", all_punctuations)), ipa_word.translate(ipa_word.maketrans(\"\", \"\", all_punctuations))\n",
    "        new_dataset_dict[\"bangla_word\"].append(filtered_bangla_word)\n",
    "        new_dataset_dict[\"ipa_word\"].append(filtered_ipa_word)\n",
    "\n",
    "print(new_dataset_dict[\"bangla_word\"][:20], new_dataset_dict[\"ipa_word\"][:20])"
   ]
  },
  {
   "cell_type": "code",
   "execution_count": null,
   "metadata": {},
   "outputs": [],
   "source": [
    "new_dataset = pd.DataFrame(new_dataset_dict)\n",
    "new_dataset.head(10)"
   ]
  },
  {
   "cell_type": "code",
   "execution_count": null,
   "metadata": {},
   "outputs": [],
   "source": [
    "new_dataset.to_parquet(\"Datasets/bangla_word_and_ipa.pq\", engine=\"fastparquet\")"
   ]
  },
  {
   "cell_type": "markdown",
   "metadata": {},
   "source": [
    "### Some experiments with encodings"
   ]
  },
  {
   "cell_type": "code",
   "execution_count": null,
   "metadata": {},
   "outputs": [],
   "source": [
    "str1 = \"ক\"\n",
    "str2 = \"কে\"\n",
    "str3 = \"কা\"\n",
    "str4 = \"কৌ\"\n",
    "str5 = \"ক্র\"\n",
    "\n",
    "print(str1.encode('utf-8').hex())\n",
    "print(str2.encode('utf-8').hex())\n",
    "print(str3.encode('utf-8').hex())\n",
    "print(str4.encode('utf-8').hex())\n",
    "print(str5.encode('utf-8').hex())"
   ]
  },
  {
   "cell_type": "code",
   "execution_count": null,
   "metadata": {},
   "outputs": [],
   "source": [
    "str1 = \"ক\"\n",
    "str2 = \"আ\"\n",
    "str3 = \"ক\"\n",
    "str4 = \"কাক\"\n",
    "print(str1.encode('utf-8').hex())\n",
    "print(str2.encode('utf-8').hex())\n",
    "print(str3.encode('utf-8').hex())\n",
    "print(str4.encode('utf-8').hex())"
   ]
  }
 ],
 "metadata": {
  "kernelspec": {
   "display_name": "NLP-Learning",
   "language": "python",
   "name": "python3"
  },
  "language_info": {
   "codemirror_mode": {
    "name": "ipython",
    "version": 3
   },
   "file_extension": ".py",
   "mimetype": "text/x-python",
   "name": "python",
   "nbconvert_exporter": "python",
   "pygments_lexer": "ipython3",
   "version": "3.11.4"
  },
  "orig_nbformat": 4
 },
 "nbformat": 4,
 "nbformat_minor": 2
}
