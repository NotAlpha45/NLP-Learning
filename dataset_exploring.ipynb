{
 "cells": [
  {
   "cell_type": "code",
   "execution_count": 10,
   "metadata": {},
   "outputs": [],
   "source": [
    "import numpy as np\n",
    "import pandas as pd\n",
    "import pyarrow\n",
    "import string\n",
    "#Importing Necessary Library\n",
    "#Pyarrow engine makes csv file reading writing faster for panda library"
   ]
  },
  {
   "cell_type": "code",
   "execution_count": 17,
   "metadata": {},
   "outputs": [],
   "source": [
    "dataset = pd.read_csv(\"Datasets/trainIPAdb_u.csv\", engine=\"pyarrow\")"
   ]
  },
  {
   "cell_type": "code",
   "execution_count": 12,
   "metadata": {},
   "outputs": [
    {
     "data": {
      "text/html": [
       "<div>\n",
       "<style scoped>\n",
       "    .dataframe tbody tr th:only-of-type {\n",
       "        vertical-align: middle;\n",
       "    }\n",
       "\n",
       "    .dataframe tbody tr th {\n",
       "        vertical-align: top;\n",
       "    }\n",
       "\n",
       "    .dataframe thead th {\n",
       "        text-align: right;\n",
       "    }\n",
       "</style>\n",
       "<table border=\"1\" class=\"dataframe\">\n",
       "  <thead>\n",
       "    <tr style=\"text-align: right;\">\n",
       "      <th></th>\n",
       "      <th>text</th>\n",
       "      <th>ipa</th>\n",
       "    </tr>\n",
       "  </thead>\n",
       "  <tbody>\n",
       "    <tr>\n",
       "      <th>0</th>\n",
       "      <td>এরপরও তারা বকেয়া পরিশোধ করেনি।</td>\n",
       "      <td>eɾpɔɾo t̪ɐɾɐ bɔkeʲɐ poɾɪʃod̪ʱ kɔɾenɪ।</td>\n",
       "    </tr>\n",
       "    <tr>\n",
       "      <th>1</th>\n",
       "      <td>আগে সুইস ব্যাংকে জমা টাকার কোনো প্রতিবেদন প্রক...</td>\n",
       "      <td>ɐge suɪ̯s bɛŋke ɟɔmɐ tɐkɐɾ kono pɾot̪ɪbed̪ɔn p...</td>\n",
       "    </tr>\n",
       "    <tr>\n",
       "      <th>2</th>\n",
       "      <td>আদালত প্রতিষ্ঠানটি সিলগালা করে দেয়।</td>\n",
       "      <td>ɐd̪ɐlɔt̪ pɾot̪ɪʃtʱɐntɪ sɪlgɐlɐ koɾe d̪ee̯।</td>\n",
       "    </tr>\n",
       "    <tr>\n",
       "      <th>3</th>\n",
       "      <td>রায়ে তাদের দোষী সাব্যস্ত করা হলেও সাজা আগামী স...</td>\n",
       "      <td>ɾɐe t̪ɐd̪eɾ d̪oʃɪ ʃɐbbost̪o kɔɾɐ holeo̯ ʃɐɟɐ ɐ...</td>\n",
       "    </tr>\n",
       "    <tr>\n",
       "      <th>4</th>\n",
       "      <td>গ্রেফতারের পর থেকে তাদের বাঁচাতে এলাকার প্রভাব...</td>\n",
       "      <td>gɾepʰt̪ɐɾeɾ pɔɾ t̪ʰeke t̪ɐd̪eɾ bɐ̃cɐt̪e elɐkɐɾ...</td>\n",
       "    </tr>\n",
       "    <tr>\n",
       "      <th>5</th>\n",
       "      <td>দাম্পত্য জীবনে তাদের দুটি কন্যাসন্তান হয়।</td>\n",
       "      <td>d̪ɐmpot̪t̪o ɟɪbone t̪ɐd̪eɾ d̪utɪ konnɐʃɔnt̪ɐn ...</td>\n",
       "    </tr>\n",
       "    <tr>\n",
       "      <th>6</th>\n",
       "      <td>তিনি এ ধরনের উদ্যোগ গ্রহণের জন্য আয়োজকদের ধন্য...</td>\n",
       "      <td>t̪ɪnɪ e d̪ʱɔɾoneɾ ud̪d̪og gɾohoneɾ ɟonno ɐʲoɟk...</td>\n",
       "    </tr>\n",
       "    <tr>\n",
       "      <th>7</th>\n",
       "      <td>এলাকাবাসী জানান, যমুনা নদীতে ড্রেজার মেশিন দিয়...</td>\n",
       "      <td>elɐkɐbɐʃɪ ɟɐnɐn, ɟomunɐ nod̪ɪt̪e dɾeɟɐɾ meʃɪn ...</td>\n",
       "    </tr>\n",
       "    <tr>\n",
       "      <th>8</th>\n",
       "      <td>চেক পোস্টে পৌঁছতেই ইস্রাফিলকে আটক করে তার কাগ...</td>\n",
       "      <td>cek poste pẽcʰt̪e͡ɪ̯ ɪsɾɐpʰɪlke ɐtok koɾe t̪ɐ...</td>\n",
       "    </tr>\n",
       "    <tr>\n",
       "      <th>9</th>\n",
       "      <td>তার চিৎকারে বাড়ির অন্যরা ছুটে এসে একটি জানালা ...</td>\n",
       "      <td>t̪ɐɾ cɪt̪kɐɾe bɐɽɪɾ onnoɾɐ cʰute eʃe ektɪ ɟɐnɐ...</td>\n",
       "    </tr>\n",
       "    <tr>\n",
       "      <th>10</th>\n",
       "      <td>আদালত মামলাটি সিআইডিকে তদন্তের নির্দেশ দিলেও এ...</td>\n",
       "      <td>ɐd̪ɐlɔt̪ mɐmlɐtɪ sɪɐ̯ɪdɪke t̪ɔd̪ont̪eɾ nɪɾd̪eʃ...</td>\n",
       "    </tr>\n",
       "    <tr>\n",
       "      <th>11</th>\n",
       "      <td>বিদেশে অবস্থান করে তিনি দেশকে অচল করে দিতে চাচ...</td>\n",
       "      <td>bɪd̪eʃe ɔbost̪ʰɐn koɾe t̪ɪnɪ d̪eʃke ɔcɔl koɾe ...</td>\n",
       "    </tr>\n",
       "    <tr>\n",
       "      <th>12</th>\n",
       "      <td>এই বই দুটি রাজনৈতিক নেতাকর্মীদের পথচলায় পাথেয় ...</td>\n",
       "      <td>eɪ̯ boɪ̯ d̪utɪ ɾɐɟnoɪ̯t̪ɪk net̪ɐkoɾmɪd̪eɾ pɔt̪...</td>\n",
       "    </tr>\n",
       "    <tr>\n",
       "      <th>13</th>\n",
       "      <td>সেখানে অবস্থার অবনতি দেখে কর্তব্যরত চিকিৎসক উন...</td>\n",
       "      <td>ʃekʰɐne ɔbost̪ʰɐɾ ɔbonot̪ɪ d̪ekʰe kɔɾt̪obboɾɔt...</td>\n",
       "    </tr>\n",
       "    <tr>\n",
       "      <th>14</th>\n",
       "      <td>পাকিস্তানের অনুরাগীদের মুখের হাসির রেখা মিলিয়ে...</td>\n",
       "      <td>pɐkɪst̪ɐneɾ onuɾɐgɪd̪eɾ mukʰeɾ hɐʃɪɾ ɾekʰɐ mɪl...</td>\n",
       "    </tr>\n",
       "    <tr>\n",
       "      <th>15</th>\n",
       "      <td>এ সময় বগুড়া থেকে নওগাঁগামী দ্রুতগতির একটি বাস ...</td>\n",
       "      <td>e ʃɔmɔe̯ bɔguɽɐ t̪ʰeke nogɐ̃gɐmɪ d̪ɾut̪ɔgot̪ɪɾ...</td>\n",
       "    </tr>\n",
       "    <tr>\n",
       "      <th>16</th>\n",
       "      <td>প্রকল্প বাস্তবায়ন হলে আধুনিক শিক্ষার সঙ্গে সমন...</td>\n",
       "      <td>pɾokɔlpo bɐst̪obɐʲon hole ɐd̪ʱunɪk ʃɪkkʰɐɾ ʃɔŋ...</td>\n",
       "    </tr>\n",
       "    <tr>\n",
       "      <th>17</th>\n",
       "      <td>বুধবার সকালে জিঞ্জিরাম নদীতে আধা কিলোমিটার দক্...</td>\n",
       "      <td>bud̪ʱbɐɾ ʃɔkɐle ɟɪnɟɪɾɐm nod̪ɪt̪e ɐd̪ʱɐ kɪlomɪ...</td>\n",
       "    </tr>\n",
       "    <tr>\n",
       "      <th>18</th>\n",
       "      <td>বঙ্গবন্ধু শেখ মুজিবুর রহমানকে দেশের অনেক বড় নে...</td>\n",
       "      <td>bɔŋgobond̪ʱu ʃekʰ muɟɪbuɾ ɾɔhomɐnke d̪eʃeɾ ɔne...</td>\n",
       "    </tr>\n",
       "    <tr>\n",
       "      <th>19</th>\n",
       "      <td>এখন কী হবে- জানতে চাইলে নাম প্রকাশে অনিচ্ছুক ই...</td>\n",
       "      <td>ɛkʰon kɪ hɔbe- ɟɐnt̪e cɐɪ̯le nɐm pɾokɐʃe ɔnɪcc...</td>\n",
       "    </tr>\n",
       "  </tbody>\n",
       "</table>\n",
       "</div>"
      ],
      "text/plain": [
       "                                                 text  \\\n",
       "0                      এরপরও তারা বকেয়া পরিশোধ করেনি।   \n",
       "1   আগে সুইস ব্যাংকে জমা টাকার কোনো প্রতিবেদন প্রক...   \n",
       "2                 আদালত প্রতিষ্ঠানটি সিলগালা করে দেয়।   \n",
       "3   রায়ে তাদের দোষী সাব্যস্ত করা হলেও সাজা আগামী স...   \n",
       "4   গ্রেফতারের পর থেকে তাদের বাঁচাতে এলাকার প্রভাব...   \n",
       "5           দাম্পত্য জীবনে তাদের দুটি কন্যাসন্তান হয়।   \n",
       "6   তিনি এ ধরনের উদ্যোগ গ্রহণের জন্য আয়োজকদের ধন্য...   \n",
       "7   এলাকাবাসী জানান, যমুনা নদীতে ড্রেজার মেশিন দিয়...   \n",
       "8   চেক পোস্টে পৌঁছতেই ইস্রাফিলকে আটক করে তার কাগ...   \n",
       "9   তার চিৎকারে বাড়ির অন্যরা ছুটে এসে একটি জানালা ...   \n",
       "10  আদালত মামলাটি সিআইডিকে তদন্তের নির্দেশ দিলেও এ...   \n",
       "11  বিদেশে অবস্থান করে তিনি দেশকে অচল করে দিতে চাচ...   \n",
       "12  এই বই দুটি রাজনৈতিক নেতাকর্মীদের পথচলায় পাথেয় ...   \n",
       "13  সেখানে অবস্থার অবনতি দেখে কর্তব্যরত চিকিৎসক উন...   \n",
       "14  পাকিস্তানের অনুরাগীদের মুখের হাসির রেখা মিলিয়ে...   \n",
       "15  এ সময় বগুড়া থেকে নওগাঁগামী দ্রুতগতির একটি বাস ...   \n",
       "16  প্রকল্প বাস্তবায়ন হলে আধুনিক শিক্ষার সঙ্গে সমন...   \n",
       "17  বুধবার সকালে জিঞ্জিরাম নদীতে আধা কিলোমিটার দক্...   \n",
       "18  বঙ্গবন্ধু শেখ মুজিবুর রহমানকে দেশের অনেক বড় নে...   \n",
       "19  এখন কী হবে- জানতে চাইলে নাম প্রকাশে অনিচ্ছুক ই...   \n",
       "\n",
       "                                                  ipa  \n",
       "0               eɾpɔɾo t̪ɐɾɐ bɔkeʲɐ poɾɪʃod̪ʱ kɔɾenɪ।  \n",
       "1   ɐge suɪ̯s bɛŋke ɟɔmɐ tɐkɐɾ kono pɾot̪ɪbed̪ɔn p...  \n",
       "2          ɐd̪ɐlɔt̪ pɾot̪ɪʃtʱɐntɪ sɪlgɐlɐ koɾe d̪ee̯।  \n",
       "3   ɾɐe t̪ɐd̪eɾ d̪oʃɪ ʃɐbbost̪o kɔɾɐ holeo̯ ʃɐɟɐ ɐ...  \n",
       "4   gɾepʰt̪ɐɾeɾ pɔɾ t̪ʰeke t̪ɐd̪eɾ bɐ̃cɐt̪e elɐkɐɾ...  \n",
       "5   d̪ɐmpot̪t̪o ɟɪbone t̪ɐd̪eɾ d̪utɪ konnɐʃɔnt̪ɐn ...  \n",
       "6   t̪ɪnɪ e d̪ʱɔɾoneɾ ud̪d̪og gɾohoneɾ ɟonno ɐʲoɟk...  \n",
       "7   elɐkɐbɐʃɪ ɟɐnɐn, ɟomunɐ nod̪ɪt̪e dɾeɟɐɾ meʃɪn ...  \n",
       "8   cek poste pẽcʰt̪e͡ɪ̯ ɪsɾɐpʰɪlke ɐtok koɾe t̪ɐ...  \n",
       "9   t̪ɐɾ cɪt̪kɐɾe bɐɽɪɾ onnoɾɐ cʰute eʃe ektɪ ɟɐnɐ...  \n",
       "10  ɐd̪ɐlɔt̪ mɐmlɐtɪ sɪɐ̯ɪdɪke t̪ɔd̪ont̪eɾ nɪɾd̪eʃ...  \n",
       "11  bɪd̪eʃe ɔbost̪ʰɐn koɾe t̪ɪnɪ d̪eʃke ɔcɔl koɾe ...  \n",
       "12  eɪ̯ boɪ̯ d̪utɪ ɾɐɟnoɪ̯t̪ɪk net̪ɐkoɾmɪd̪eɾ pɔt̪...  \n",
       "13  ʃekʰɐne ɔbost̪ʰɐɾ ɔbonot̪ɪ d̪ekʰe kɔɾt̪obboɾɔt...  \n",
       "14  pɐkɪst̪ɐneɾ onuɾɐgɪd̪eɾ mukʰeɾ hɐʃɪɾ ɾekʰɐ mɪl...  \n",
       "15  e ʃɔmɔe̯ bɔguɽɐ t̪ʰeke nogɐ̃gɐmɪ d̪ɾut̪ɔgot̪ɪɾ...  \n",
       "16  pɾokɔlpo bɐst̪obɐʲon hole ɐd̪ʱunɪk ʃɪkkʰɐɾ ʃɔŋ...  \n",
       "17  bud̪ʱbɐɾ ʃɔkɐle ɟɪnɟɪɾɐm nod̪ɪt̪e ɐd̪ʱɐ kɪlomɪ...  \n",
       "18  bɔŋgobond̪ʱu ʃekʰ muɟɪbuɾ ɾɔhomɐnke d̪eʃeɾ ɔne...  \n",
       "19  ɛkʰon kɪ hɔbe- ɟɐnt̪e cɐɪ̯le nɐm pɾokɐʃe ɔnɪcc...  "
      ]
     },
     "execution_count": 12,
     "metadata": {},
     "output_type": "execute_result"
    }
   ],
   "source": [
    "dataset.head(20)"
   ]
  },
  {
   "cell_type": "code",
   "execution_count": 13,
   "metadata": {},
   "outputs": [
    {
     "data": {
      "text/html": [
       "<div>\n",
       "<style scoped>\n",
       "    .dataframe tbody tr th:only-of-type {\n",
       "        vertical-align: middle;\n",
       "    }\n",
       "\n",
       "    .dataframe tbody tr th {\n",
       "        vertical-align: top;\n",
       "    }\n",
       "\n",
       "    .dataframe thead th {\n",
       "        text-align: right;\n",
       "    }\n",
       "</style>\n",
       "<table border=\"1\" class=\"dataframe\">\n",
       "  <thead>\n",
       "    <tr style=\"text-align: right;\">\n",
       "      <th></th>\n",
       "      <th>text</th>\n",
       "      <th>ipa</th>\n",
       "    </tr>\n",
       "  </thead>\n",
       "  <tbody>\n",
       "    <tr>\n",
       "      <th>count</th>\n",
       "      <td>21999</td>\n",
       "      <td>21999</td>\n",
       "    </tr>\n",
       "    <tr>\n",
       "      <th>unique</th>\n",
       "      <td>21971</td>\n",
       "      <td>21967</td>\n",
       "    </tr>\n",
       "    <tr>\n",
       "      <th>top</th>\n",
       "      <td>বিষয়টি ভিন্ন খাতে নেয়ার অপচেষ্টা চলছে।</td>\n",
       "      <td>kʰɔboɾ d̪ɛ ɪndɪpendenteɾ।</td>\n",
       "    </tr>\n",
       "    <tr>\n",
       "      <th>freq</th>\n",
       "      <td>2</td>\n",
       "      <td>4</td>\n",
       "    </tr>\n",
       "  </tbody>\n",
       "</table>\n",
       "</div>"
      ],
      "text/plain": [
       "                                          text                        ipa\n",
       "count                                    21999                      21999\n",
       "unique                                   21971                      21967\n",
       "top     বিষয়টি ভিন্ন খাতে নেয়ার অপচেষ্টা চলছে।  kʰɔboɾ d̪ɛ ɪndɪpendenteɾ।\n",
       "freq                                         2                          4"
      ]
     },
     "execution_count": 13,
     "metadata": {},
     "output_type": "execute_result"
    }
   ],
   "source": [
    "dataset.describe()"
   ]
  },
  {
   "cell_type": "code",
   "execution_count": 14,
   "metadata": {},
   "outputs": [
    {
     "data": {
      "text/plain": [
       "'!\"#$%&\\'()*+,-./:;<=>?@[\\\\]^_`{|}~।'"
      ]
     },
     "execution_count": 14,
     "metadata": {},
     "output_type": "execute_result"
    }
   ],
   "source": [
    "all_punctuations =  string.punctuation + \"।\"\n",
    "all_punctuations"
   ]
  },
  {
   "cell_type": "code",
   "execution_count": 18,
   "metadata": {},
   "outputs": [],
   "source": [
    "filtered_dataset = dataset[dataset[\"text\"].str.contains(\"[A-Za-z0-9]\") == False]\n",
    "filtered_dataset = filtered_dataset[filtered_dataset[\"ipa\"].str.contains(\"[ঀ-৾]\") == False]\n",
    "\n",
    "bangla_split = filtered_dataset[\"text\"].str.split()\n",
    "ipa_split = filtered_dataset[\"ipa\"].str.split()"
   ]
  },
  {
   "cell_type": "code",
   "execution_count": 19,
   "metadata": {},
   "outputs": [
    {
     "data": {
      "text/html": [
       "<div>\n",
       "<style scoped>\n",
       "    .dataframe tbody tr th:only-of-type {\n",
       "        vertical-align: middle;\n",
       "    }\n",
       "\n",
       "    .dataframe tbody tr th {\n",
       "        vertical-align: top;\n",
       "    }\n",
       "\n",
       "    .dataframe thead th {\n",
       "        text-align: right;\n",
       "    }\n",
       "</style>\n",
       "<table border=\"1\" class=\"dataframe\">\n",
       "  <thead>\n",
       "    <tr style=\"text-align: right;\">\n",
       "      <th></th>\n",
       "      <th>text</th>\n",
       "      <th>ipa</th>\n",
       "    </tr>\n",
       "  </thead>\n",
       "  <tbody>\n",
       "  </tbody>\n",
       "</table>\n",
       "</div>"
      ],
      "text/plain": [
       "Empty DataFrame\n",
       "Columns: [text, ipa]\n",
       "Index: []"
      ]
     },
     "execution_count": 19,
     "metadata": {},
     "output_type": "execute_result"
    }
   ],
   "source": [
    "filtered_dataset[filtered_dataset[\"ipa\"].str.contains(\"[ঀ-৾]\") == True]"
   ]
  },
  {
   "cell_type": "code",
   "execution_count": 20,
   "metadata": {},
   "outputs": [],
   "source": [
    "new_dataset_dict = {\n",
    "    \"bangla_word\": [],\n",
    "    \"ipa_word\": []\n",
    "}"
   ]
  },
  {
   "cell_type": "code",
   "execution_count": 21,
   "metadata": {},
   "outputs": [
    {
     "name": "stdout",
     "output_type": "stream",
     "text": [
      "['এরপরও', 'তারা', 'বকেয়া', 'পরিশোধ', 'করেনি', 'আগে', 'সুইস', 'ব্যাংকে', 'জমা', 'টাকার', 'কোনো', 'প্রতিবেদন', 'প্রকাশ', 'করা', 'হতো', 'না', 'আদালত', 'প্রতিষ্ঠানটি', 'সিলগালা', 'করে'] ['eɾpɔɾo', 't̪ɐɾɐ', 'bɔkeʲɐ', 'poɾɪʃod̪ʱ', 'kɔɾenɪ', 'ɐge', 'suɪ̯s', 'bɛŋke', 'ɟɔmɐ', 'tɐkɐɾ', 'kono', 'pɾot̪ɪbed̪ɔn', 'pɾokɐʃ', 'kɔɾɐ', 'hot̪o', 'nɐ', 'ɐd̪ɐlɔt̪', 'pɾot̪ɪʃtʱɐntɪ', 'sɪlgɐlɐ', 'koɾe']\n"
     ]
    }
   ],
   "source": [
    "for bangla_sentence, ipa_sentence in zip(bangla_split, ipa_split):\n",
    "    for bangla_word, ipa_word in zip(bangla_sentence, ipa_sentence):\n",
    "        filtered_bangla_word, filtered_ipa_word = bangla_word.translate(bangla_word.maketrans(\"\", \"\", all_punctuations)), ipa_word.translate(ipa_word.maketrans(\"\", \"\", all_punctuations))\n",
    "        new_dataset_dict[\"bangla_word\"].append(filtered_bangla_word)\n",
    "        new_dataset_dict[\"ipa_word\"].append(filtered_ipa_word)\n",
    "\n",
    "print(new_dataset_dict[\"bangla_word\"][:20], new_dataset_dict[\"ipa_word\"][:20])"
   ]
  },
  {
   "cell_type": "code",
   "execution_count": 22,
   "metadata": {},
   "outputs": [
    {
     "data": {
      "text/html": [
       "<div>\n",
       "<style scoped>\n",
       "    .dataframe tbody tr th:only-of-type {\n",
       "        vertical-align: middle;\n",
       "    }\n",
       "\n",
       "    .dataframe tbody tr th {\n",
       "        vertical-align: top;\n",
       "    }\n",
       "\n",
       "    .dataframe thead th {\n",
       "        text-align: right;\n",
       "    }\n",
       "</style>\n",
       "<table border=\"1\" class=\"dataframe\">\n",
       "  <thead>\n",
       "    <tr style=\"text-align: right;\">\n",
       "      <th></th>\n",
       "      <th>bangla_word</th>\n",
       "      <th>ipa_word</th>\n",
       "    </tr>\n",
       "  </thead>\n",
       "  <tbody>\n",
       "    <tr>\n",
       "      <th>0</th>\n",
       "      <td>এরপরও</td>\n",
       "      <td>eɾpɔɾo</td>\n",
       "    </tr>\n",
       "    <tr>\n",
       "      <th>1</th>\n",
       "      <td>তারা</td>\n",
       "      <td>t̪ɐɾɐ</td>\n",
       "    </tr>\n",
       "    <tr>\n",
       "      <th>2</th>\n",
       "      <td>বকেয়া</td>\n",
       "      <td>bɔkeʲɐ</td>\n",
       "    </tr>\n",
       "    <tr>\n",
       "      <th>3</th>\n",
       "      <td>পরিশোধ</td>\n",
       "      <td>poɾɪʃod̪ʱ</td>\n",
       "    </tr>\n",
       "    <tr>\n",
       "      <th>4</th>\n",
       "      <td>করেনি</td>\n",
       "      <td>kɔɾenɪ</td>\n",
       "    </tr>\n",
       "    <tr>\n",
       "      <th>5</th>\n",
       "      <td>আগে</td>\n",
       "      <td>ɐge</td>\n",
       "    </tr>\n",
       "    <tr>\n",
       "      <th>6</th>\n",
       "      <td>সুইস</td>\n",
       "      <td>suɪ̯s</td>\n",
       "    </tr>\n",
       "    <tr>\n",
       "      <th>7</th>\n",
       "      <td>ব্যাংকে</td>\n",
       "      <td>bɛŋke</td>\n",
       "    </tr>\n",
       "    <tr>\n",
       "      <th>8</th>\n",
       "      <td>জমা</td>\n",
       "      <td>ɟɔmɐ</td>\n",
       "    </tr>\n",
       "    <tr>\n",
       "      <th>9</th>\n",
       "      <td>টাকার</td>\n",
       "      <td>tɐkɐɾ</td>\n",
       "    </tr>\n",
       "  </tbody>\n",
       "</table>\n",
       "</div>"
      ],
      "text/plain": [
       "  bangla_word   ipa_word\n",
       "0       এরপরও     eɾpɔɾo\n",
       "1        তারা      t̪ɐɾɐ\n",
       "2       বকেয়া     bɔkeʲɐ\n",
       "3      পরিশোধ  poɾɪʃod̪ʱ\n",
       "4       করেনি     kɔɾenɪ\n",
       "5         আগে        ɐge\n",
       "6        সুইস      suɪ̯s\n",
       "7     ব্যাংকে      bɛŋke\n",
       "8         জমা       ɟɔmɐ\n",
       "9       টাকার      tɐkɐɾ"
      ]
     },
     "execution_count": 22,
     "metadata": {},
     "output_type": "execute_result"
    }
   ],
   "source": [
    "new_dataset = pd.DataFrame(new_dataset_dict)\n",
    "new_dataset.head(10)"
   ]
  },
  {
   "cell_type": "code",
   "execution_count": 23,
   "metadata": {},
   "outputs": [],
   "source": [
    "new_dataset.to_parquet(\"Datasets/bangla_word_and_ipa.pq\", engine=\"fastparquet\")"
   ]
  },
  {
   "cell_type": "markdown",
   "metadata": {},
   "source": [
    "# Extracting Phoneme alphabets from the dataset"
   ]
  },
  {
   "cell_type": "code",
   "execution_count": 24,
   "metadata": {},
   "outputs": [],
   "source": [
    "import pandas as pd"
   ]
  },
  {
   "cell_type": "code",
   "execution_count": 25,
   "metadata": {},
   "outputs": [
    {
     "data": {
      "text/html": [
       "<div>\n",
       "<style scoped>\n",
       "    .dataframe tbody tr th:only-of-type {\n",
       "        vertical-align: middle;\n",
       "    }\n",
       "\n",
       "    .dataframe tbody tr th {\n",
       "        vertical-align: top;\n",
       "    }\n",
       "\n",
       "    .dataframe thead th {\n",
       "        text-align: right;\n",
       "    }\n",
       "</style>\n",
       "<table border=\"1\" class=\"dataframe\">\n",
       "  <thead>\n",
       "    <tr style=\"text-align: right;\">\n",
       "      <th></th>\n",
       "      <th>bangla_word</th>\n",
       "      <th>ipa_word</th>\n",
       "    </tr>\n",
       "  </thead>\n",
       "  <tbody>\n",
       "    <tr>\n",
       "      <th>0</th>\n",
       "      <td>এরপরও</td>\n",
       "      <td>eɾpɔɾo</td>\n",
       "    </tr>\n",
       "    <tr>\n",
       "      <th>1</th>\n",
       "      <td>তারা</td>\n",
       "      <td>t̪ɐɾɐ</td>\n",
       "    </tr>\n",
       "    <tr>\n",
       "      <th>2</th>\n",
       "      <td>বকেয়া</td>\n",
       "      <td>bɔkeʲɐ</td>\n",
       "    </tr>\n",
       "    <tr>\n",
       "      <th>3</th>\n",
       "      <td>পরিশোধ</td>\n",
       "      <td>poɾɪʃod̪ʱ</td>\n",
       "    </tr>\n",
       "    <tr>\n",
       "      <th>4</th>\n",
       "      <td>করেনি</td>\n",
       "      <td>kɔɾenɪ</td>\n",
       "    </tr>\n",
       "    <tr>\n",
       "      <th>5</th>\n",
       "      <td>আগে</td>\n",
       "      <td>ɐge</td>\n",
       "    </tr>\n",
       "    <tr>\n",
       "      <th>6</th>\n",
       "      <td>সুইস</td>\n",
       "      <td>suɪ̯s</td>\n",
       "    </tr>\n",
       "    <tr>\n",
       "      <th>7</th>\n",
       "      <td>ব্যাংকে</td>\n",
       "      <td>bɛŋke</td>\n",
       "    </tr>\n",
       "    <tr>\n",
       "      <th>8</th>\n",
       "      <td>জমা</td>\n",
       "      <td>ɟɔmɐ</td>\n",
       "    </tr>\n",
       "    <tr>\n",
       "      <th>9</th>\n",
       "      <td>টাকার</td>\n",
       "      <td>tɐkɐɾ</td>\n",
       "    </tr>\n",
       "  </tbody>\n",
       "</table>\n",
       "</div>"
      ],
      "text/plain": [
       "  bangla_word   ipa_word\n",
       "0       এরপরও     eɾpɔɾo\n",
       "1        তারা      t̪ɐɾɐ\n",
       "2       বকেয়া     bɔkeʲɐ\n",
       "3      পরিশোধ  poɾɪʃod̪ʱ\n",
       "4       করেনি     kɔɾenɪ\n",
       "5         আগে        ɐge\n",
       "6        সুইস      suɪ̯s\n",
       "7     ব্যাংকে      bɛŋke\n",
       "8         জমা       ɟɔmɐ\n",
       "9       টাকার      tɐkɐɾ"
      ]
     },
     "execution_count": 25,
     "metadata": {},
     "output_type": "execute_result"
    }
   ],
   "source": [
    "# Load the parquet file\n",
    "bangla_word_and_ipa = pd.read_parquet(\"Datasets/bangla_word_and_ipa.pq\", engine=\"fastparquet\",)\n",
    "bangla_word_and_ipa.head(10)"
   ]
  },
  {
   "cell_type": "code",
   "execution_count": 26,
   "metadata": {},
   "outputs": [
    {
     "data": {
      "text/plain": [
       "array([], shape=(0, 2), dtype=object)"
      ]
     },
     "execution_count": 26,
     "metadata": {},
     "output_type": "execute_result"
    }
   ],
   "source": [
    "# Print the rows in the dataset where the ipa_word column contains Bengali letters\n",
    "bangla_word_and_ipa[bangla_word_and_ipa[\"ipa_word\"].str.contains(\"[ঀ-৾]\") == True].values"
   ]
  },
  {
   "cell_type": "code",
   "execution_count": 27,
   "metadata": {},
   "outputs": [
    {
     "name": "stdout",
     "output_type": "stream",
     "text": [
      "{'o', 'ʱ', 'ɔ', 'ø', 'g', '”', 'd', 's', 'u', 'm', 'ː', 'b', '–', 'z', 'f', '͡', 'ɽ', 'ɾ', '̪', 'v', 't', 'r', 'ɛ', 'h', 'k', '̯', 'l', 'ɪ', 'a', '“', '—', 'ɐ', 'ŋ', 'c', '̆', 'ʲ', '̃', 'ʷ', 'e', 'ʃ', '‘', 'p', 'n', 'ɟ', 'ʰ'}\n"
     ]
    }
   ],
   "source": [
    "# Extract all the unique phoneme letters from the dataset\n",
    "unique_phoneme_letters = set()\n",
    "for ipa_word in bangla_word_and_ipa[\"ipa_word\"]:\n",
    "    unique_phoneme_letters.update(ipa_word)\n",
    "\n",
    "print(unique_phoneme_letters)"
   ]
  },
  {
   "cell_type": "code",
   "execution_count": null,
   "metadata": {},
   "outputs": [],
   "source": []
  }
 ],
 "metadata": {
  "kernelspec": {
   "display_name": "NLP-Learning",
   "language": "python",
   "name": "python3"
  },
  "language_info": {
   "codemirror_mode": {
    "name": "ipython",
    "version": 3
   },
   "file_extension": ".py",
   "mimetype": "text/x-python",
   "name": "python",
   "nbconvert_exporter": "python",
   "pygments_lexer": "ipython3",
   "version": "3.11.4"
  },
  "orig_nbformat": 4
 },
 "nbformat": 4,
 "nbformat_minor": 2
}
